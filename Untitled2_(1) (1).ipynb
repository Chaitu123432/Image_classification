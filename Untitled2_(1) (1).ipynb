{
  "nbformat": 4,
  "nbformat_minor": 0,
  "metadata": {
    "colab": {
      "provenance": [],
      "gpuType": "T4"
    },
    "kernelspec": {
      "name": "python3",
      "display_name": "Python 3"
    },
    "language_info": {
      "name": "python"
    },
    "accelerator": "GPU"
  },
  "cells": [
    {
      "cell_type": "markdown",
      "source": [
        "# **Image Classification**"
      ],
      "metadata": {
        "id": "QtAlUKso8i40"
      }
    },
    {
      "cell_type": "markdown",
      "source": [
        "Using Cifar-100 dataset to find performances of Image classification models such as VGG16, InceptionV3 and RESNET50 on large datasets with such large number of classes.\n",
        "\n",
        "Trying to design a efficient algorithm to work with Cifar-100."
      ],
      "metadata": {
        "id": "azI52wAz8rek"
      }
    },
    {
      "cell_type": "markdown",
      "source": [
        "**Importing Necessary Libraries**"
      ],
      "metadata": {
        "id": "BVO0t-5R9s1c"
      }
    },
    {
      "cell_type": "code",
      "execution_count": 3,
      "metadata": {
        "id": "7yRrMVfv-dsJ"
      },
      "outputs": [],
      "source": [
        "import numpy as np\n",
        "import tensorflow as tf\n",
        "from tensorflow import keras\n",
        "import matplotlib.pyplot as plt"
      ]
    },
    {
      "cell_type": "code",
      "source": [
        "from keras.layers import Conv2D, BatchNormalization, MaxPooling2D, Dropout, Dense, Flatten,AveragePooling2D,UpSampling2D\n",
        "from keras import Sequential\n",
        "from keras.models import Model\n",
        "from keras.applications.resnet50 import ResNet50\n",
        "from keras.applications.inception_v3 import InceptionV3\n",
        "from keras.applications.vgg16 import preprocess_input"
      ],
      "metadata": {
        "id": "y8jhbo9b-f2m"
      },
      "execution_count": 4,
      "outputs": []
    },
    {
      "cell_type": "markdown",
      "source": [
        "**Loading the Dataset**\n",
        "\n",
        "We can use the readily available dataset."
      ],
      "metadata": {
        "id": "tei7pw1092nA"
      }
    },
    {
      "cell_type": "code",
      "source": [
        "from keras.datasets import mnist\n",
        "(x_train, y_train), (x_test, y_test) = tf.keras.datasets.cifar100.load_data()"
      ],
      "metadata": {
        "colab": {
          "base_uri": "https://localhost:8080/"
        },
        "id": "3wWjw9GZ-i4p",
        "outputId": "a8c6a7b7-272b-4f4b-baf3-386c3e5b4517"
      },
      "execution_count": 5,
      "outputs": [
        {
          "output_type": "stream",
          "name": "stdout",
          "text": [
            "Downloading data from https://www.cs.toronto.edu/~kriz/cifar-100-python.tar.gz\n",
            "169001437/169001437 [==============================] - 13s 0us/step\n"
          ]
        }
      ]
    },
    {
      "cell_type": "markdown",
      "source": [
        "Data Preprocessing"
      ],
      "metadata": {
        "id": "r-Kn5-81-FMC"
      }
    },
    {
      "cell_type": "code",
      "source": [
        "x_train = x_train / 255.0\n",
        "x_test = x_test / 255.0\n",
        "y_train = tf.keras.utils.to_categorical(y_train)\n",
        "y_test = tf.keras.utils.to_categorical(y_test)"
      ],
      "metadata": {
        "id": "y59hJHOx-lLn"
      },
      "execution_count": 6,
      "outputs": []
    },
    {
      "cell_type": "code",
      "source": [
        "x_train_processed = preprocess_input(x_train)\n",
        "x_test_processed = preprocess_input(x_test)"
      ],
      "metadata": {
        "id": "etxmfWRV_gSG"
      },
      "execution_count": 7,
      "outputs": []
    },
    {
      "cell_type": "markdown",
      "source": [
        "# **RESNET50 model**"
      ],
      "metadata": {
        "id": "0bgWZzlu_qrs"
      }
    },
    {
      "cell_type": "code",
      "source": [
        "resnet_model = ResNet50(include_top = False,weights = 'imagenet',input_shape = (32,32,3))"
      ],
      "metadata": {
        "colab": {
          "base_uri": "https://localhost:8080/"
        },
        "id": "jHrF6lP4KSHv",
        "outputId": "f97aa380-a8ae-4f52-a57e-4937fda72ad3"
      },
      "execution_count": 6,
      "outputs": [
        {
          "output_type": "stream",
          "name": "stdout",
          "text": [
            "Downloading data from https://storage.googleapis.com/tensorflow/keras-applications/resnet/resnet50_weights_tf_dim_ordering_tf_kernels_notop.h5\n",
            "94765736/94765736 [==============================] - 2s 0us/step\n"
          ]
        }
      ]
    },
    {
      "cell_type": "code",
      "source": [
        "x = Flatten()(resnet_model.output)\n",
        "x = Dense(512, activation='relu')(x)\n",
        "x = Dropout(0.5)(x)\n",
        "output_layer = Dense(100, activation='softmax')(x)\n",
        "resnet_model=Model(inputs=resnet_model.input,outputs=output_layer)"
      ],
      "metadata": {
        "id": "_SQ8s2HDMDDw"
      },
      "execution_count": 7,
      "outputs": []
    },
    {
      "cell_type": "code",
      "source": [
        "resnet_model.compile(optimizer='adam', loss='categorical_crossentropy', metrics=['accuracy'])"
      ],
      "metadata": {
        "id": "SBkrKl2-LrrF"
      },
      "execution_count": 8,
      "outputs": []
    },
    {
      "cell_type": "markdown",
      "source": [],
      "metadata": {
        "id": "u3i_FrSI_bgO"
      }
    },
    {
      "cell_type": "code",
      "source": [
        "resnet_model.fit(x_train, y_train, epochs=5,batch_size=64, validation_data=(x_test, y_test))"
      ],
      "metadata": {
        "colab": {
          "base_uri": "https://localhost:8080/"
        },
        "id": "uM2uGXTcL4dG",
        "outputId": "b648a1c4-5871-46eb-a455-61ac373a9c4a"
      },
      "execution_count": 9,
      "outputs": [
        {
          "output_type": "stream",
          "name": "stdout",
          "text": [
            "Epoch 1/5\n",
            "782/782 [==============================] - 84s 56ms/step - loss: 4.3993 - accuracy: 0.0348 - val_loss: 6.2420 - val_accuracy: 0.0093\n",
            "Epoch 2/5\n",
            "782/782 [==============================] - 41s 52ms/step - loss: 3.9798 - accuracy: 0.0776 - val_loss: 4.6068 - val_accuracy: 0.0100\n",
            "Epoch 3/5\n",
            "782/782 [==============================] - 40s 51ms/step - loss: 3.7190 - accuracy: 0.1165 - val_loss: 4.6072 - val_accuracy: 0.0100\n",
            "Epoch 4/5\n",
            "782/782 [==============================] - 40s 51ms/step - loss: 3.5968 - accuracy: 0.1351 - val_loss: 250.8866 - val_accuracy: 0.0100\n",
            "Epoch 5/5\n",
            "782/782 [==============================] - 39s 50ms/step - loss: 3.3630 - accuracy: 0.1796 - val_loss: 284.6279 - val_accuracy: 0.0100\n"
          ]
        },
        {
          "output_type": "execute_result",
          "data": {
            "text/plain": [
              "<keras.src.callbacks.History at 0x7e80d29f3ac0>"
            ]
          },
          "metadata": {},
          "execution_count": 9
        }
      ]
    },
    {
      "cell_type": "markdown",
      "source": [
        "Accuracy of RESNET50 after 5 epochs is 17%\n",
        "\n",
        "\n"
      ],
      "metadata": {
        "id": "Z1f8N85nA5V4"
      }
    },
    {
      "cell_type": "markdown",
      "source": [
        "# **InceptionV3 Model**"
      ],
      "metadata": {
        "id": "iRGRzqTrAEsT"
      }
    },
    {
      "cell_type": "code",
      "source": [
        "inceptionv3_base = InceptionV3(weights='imagenet', include_top=False, input_shape=(256, 256, 3))"
      ],
      "metadata": {
        "id": "aS7uZWQ9NnzO",
        "colab": {
          "base_uri": "https://localhost:8080/"
        },
        "outputId": "64ee686d-7349-4c64-9698-f9d0ae58160c"
      },
      "execution_count": 8,
      "outputs": [
        {
          "output_type": "stream",
          "name": "stdout",
          "text": [
            "Downloading data from https://storage.googleapis.com/tensorflow/keras-applications/inception_v3/inception_v3_weights_tf_dim_ordering_tf_kernels_notop.h5\n",
            "87910968/87910968 [==============================] - 5s 0us/step\n"
          ]
        }
      ]
    },
    {
      "cell_type": "code",
      "source": [
        "inceptionv3_model = Sequential()\n",
        "inceptionv3_model.add(UpSampling2D((2,2)))\n",
        "inceptionv3_model.add(UpSampling2D((2,2)))\n",
        "inceptionv3_model.add(UpSampling2D((2,2)))\n",
        "inceptionv3_model.add(inceptionv3_base)\n",
        "inceptionv3_model.add(Flatten())\n",
        "inceptionv3_model.add(Dense(64, activation='relu'))\n",
        "inceptionv3_model.add(Dropout(0.5))\n",
        "inceptionv3_model.add(BatchNormalization())\n",
        "inceptionv3_model.add(Dense(100, activation='softmax'))\n",
        "inceptionv3_model.compile(optimizer='adam', loss='categorical_crossentropy', metrics=['accuracy'])\n",
        "\n",
        "inceptionv3_model.fit(x_train_processed, y_train, epochs=5, batch_size=64, validation_data=(x_test, y_test))"
      ],
      "metadata": {
        "id": "w6DxkrcxRwXl",
        "colab": {
          "base_uri": "https://localhost:8080/"
        },
        "outputId": "dd734d77-d044-4926-9d7b-4b908cdb93a2"
      },
      "execution_count": 18,
      "outputs": [
        {
          "output_type": "stream",
          "name": "stdout",
          "text": [
            "Epoch 1/5\n",
            "782/782 [==============================] - 533s 617ms/step - loss: 4.4888 - accuracy: 0.0250 - val_loss: 25.0986 - val_accuracy: 0.0100\n",
            "Epoch 2/5\n",
            "782/782 [==============================] - 478s 612ms/step - loss: 4.0846 - accuracy: 0.0547 - val_loss: 58.5645 - val_accuracy: 0.0100\n",
            "Epoch 3/5\n",
            "782/782 [==============================] - 496s 635ms/step - loss: 3.6892 - accuracy: 0.1019 - val_loss: 46.2092 - val_accuracy: 0.0100\n",
            "Epoch 4/5\n",
            "782/782 [==============================] - 480s 613ms/step - loss: 3.3079 - accuracy: 0.1574 - val_loss: 53.2499 - val_accuracy: 0.0100\n",
            "Epoch 5/5\n",
            "782/782 [==============================] - 497s 635ms/step - loss: 3.0116 - accuracy: 0.2104 - val_loss: 26.6745 - val_accuracy: 0.0101\n"
          ]
        },
        {
          "output_type": "execute_result",
          "data": {
            "text/plain": [
              "<keras.src.callbacks.History at 0x7b28540d8880>"
            ]
          },
          "metadata": {},
          "execution_count": 18
        }
      ]
    },
    {
      "cell_type": "markdown",
      "source": [
        "Accuracy of InceptionV3 after 5 epochs is 21%"
      ],
      "metadata": {
        "id": "sSR2aiPKBTS2"
      }
    },
    {
      "cell_type": "markdown",
      "source": [
        "# **VGG16 Model**"
      ],
      "metadata": {
        "id": "a2tctf6BBW_k"
      }
    },
    {
      "cell_type": "code",
      "source": [
        "# #VGG-16 model\n",
        "\n",
        "\n",
        "vgg16_model = Sequential()\n",
        "\n",
        "vgg16_model.add(Conv2D(64, (3, 3), activation='relu', padding='same', input_shape=(32, 32, 3)))\n",
        "vgg16_model.add(Conv2D(64, (3, 3), activation='relu', padding='same'))\n",
        "vgg16_model.add(MaxPooling2D((2, 2)))\n",
        "\n",
        "vgg16_model.add(Conv2D(128, (3, 3), activation='relu', padding='same'))\n",
        "vgg16_model.add(Conv2D(128, (3, 3), activation='relu', padding='same'))\n",
        "vgg16_model.add(MaxPooling2D((2, 2)))\n",
        "\n",
        "vgg16_model.add(Conv2D(256, (3, 3), activation='relu', padding='same'))\n",
        "vgg16_model.add(Conv2D(256, (3, 3), activation='relu', padding='same'))\n",
        "vgg16_model.add(Conv2D(256, (3, 3), activation='relu', padding='same'))\n",
        "vgg16_model.add(MaxPooling2D((2, 2)))\n",
        "\n",
        "vgg16_model.add(Conv2D(512, (3, 3), activation='relu', padding='same'))\n",
        "vgg16_model.add(Conv2D(512, (3, 3), activation='relu', padding='same'))\n",
        "vgg16_model.add(Conv2D(512, (3, 3), activation='relu', padding='same'))\n",
        "vgg16_model.add(MaxPooling2D((2, 2)))\n",
        "\n",
        "vgg16_model.add(Conv2D(512, (3, 3), activation='relu', padding='same'))\n",
        "vgg16_model.add(Conv2D(512, (3, 3), activation='relu', padding='same'))\n",
        "vgg16_model.add(Conv2D(512, (3, 3), activation='relu', padding='same'))\n",
        "vgg16_model.add(MaxPooling2D((2, 2)))\n",
        "\n",
        "vgg16_model.add(Flatten())\n",
        "vgg16_model.add(Dense(4096, activation='relu'))\n",
        "vgg16_model.add(Dropout(0.5))\n",
        "vgg16_model.add(Dense(4096, activation='relu'))\n",
        "vgg16_model.add(Dropout(0.5))\n",
        "vgg16_model.add(Dense(3, activation='softmax'))\n",
        "\n",
        "vgg16_model.summary()"
      ],
      "metadata": {
        "collapsed": true,
        "id": "y_yjj_gB6fcG",
        "colab": {
          "base_uri": "https://localhost:8080/"
        },
        "outputId": "459f0fd9-af32-42a5-b70a-54426b5f749d"
      },
      "execution_count": 10,
      "outputs": [
        {
          "output_type": "stream",
          "name": "stdout",
          "text": [
            "Model: \"sequential_1\"\n",
            "_________________________________________________________________\n",
            " Layer (type)                Output Shape              Param #   \n",
            "=================================================================\n",
            " conv2d_94 (Conv2D)          (None, 32, 32, 64)        1792      \n",
            "                                                                 \n",
            " conv2d_95 (Conv2D)          (None, 32, 32, 64)        36928     \n",
            "                                                                 \n",
            " max_pooling2d_4 (MaxPoolin  (None, 16, 16, 64)        0         \n",
            " g2D)                                                            \n",
            "                                                                 \n",
            " conv2d_96 (Conv2D)          (None, 16, 16, 128)       73856     \n",
            "                                                                 \n",
            " conv2d_97 (Conv2D)          (None, 16, 16, 128)       147584    \n",
            "                                                                 \n",
            " max_pooling2d_5 (MaxPoolin  (None, 8, 8, 128)         0         \n",
            " g2D)                                                            \n",
            "                                                                 \n",
            " conv2d_98 (Conv2D)          (None, 8, 8, 256)         295168    \n",
            "                                                                 \n",
            " conv2d_99 (Conv2D)          (None, 8, 8, 256)         590080    \n",
            "                                                                 \n",
            " conv2d_100 (Conv2D)         (None, 8, 8, 256)         590080    \n",
            "                                                                 \n",
            " max_pooling2d_6 (MaxPoolin  (None, 4, 4, 256)         0         \n",
            " g2D)                                                            \n",
            "                                                                 \n",
            " conv2d_101 (Conv2D)         (None, 4, 4, 512)         1180160   \n",
            "                                                                 \n",
            " conv2d_102 (Conv2D)         (None, 4, 4, 512)         2359808   \n",
            "                                                                 \n",
            " conv2d_103 (Conv2D)         (None, 4, 4, 512)         2359808   \n",
            "                                                                 \n",
            " max_pooling2d_7 (MaxPoolin  (None, 2, 2, 512)         0         \n",
            " g2D)                                                            \n",
            "                                                                 \n",
            " conv2d_104 (Conv2D)         (None, 2, 2, 512)         2359808   \n",
            "                                                                 \n",
            " conv2d_105 (Conv2D)         (None, 2, 2, 512)         2359808   \n",
            "                                                                 \n",
            " conv2d_106 (Conv2D)         (None, 2, 2, 512)         2359808   \n",
            "                                                                 \n",
            " max_pooling2d_8 (MaxPoolin  (None, 1, 1, 512)         0         \n",
            " g2D)                                                            \n",
            "                                                                 \n",
            " flatten_1 (Flatten)         (None, 512)               0         \n",
            "                                                                 \n",
            " dense_2 (Dense)             (None, 4096)              2101248   \n",
            "                                                                 \n",
            " dropout_1 (Dropout)         (None, 4096)              0         \n",
            "                                                                 \n",
            " dense_3 (Dense)             (None, 4096)              16781312  \n",
            "                                                                 \n",
            " dropout_2 (Dropout)         (None, 4096)              0         \n",
            "                                                                 \n",
            " dense_4 (Dense)             (None, 3)                 12291     \n",
            "                                                                 \n",
            "=================================================================\n",
            "Total params: 33609539 (128.21 MB)\n",
            "Trainable params: 33609539 (128.21 MB)\n",
            "Non-trainable params: 0 (0.00 Byte)\n",
            "_________________________________________________________________\n"
          ]
        }
      ]
    },
    {
      "cell_type": "code",
      "source": [
        "x = Flatten()(vgg16_model.output)\n",
        "x = Dense(512, activation='relu')(x)\n",
        "x = Dropout(0.5)(x)\n",
        "output_layer = Dense(100, activation='softmax')(x)\n",
        "vgg16_model=Model(inputs=vgg16_model.input,outputs=output_layer)"
      ],
      "metadata": {
        "id": "gGJEy3nlBsa1"
      },
      "execution_count": 11,
      "outputs": []
    },
    {
      "cell_type": "code",
      "source": [
        "for layer in vgg16_model.layers:\n",
        "            layer.trainable = True\n",
        "vgg16_model.compile(optimizer='adam', loss='categorical_crossentropy', metrics=['accuracy'])"
      ],
      "metadata": {
        "id": "MLPB91RW8g2h"
      },
      "execution_count": 12,
      "outputs": []
    },
    {
      "cell_type": "code",
      "source": [
        "vgg16_model.fit(x_train_processed, y_train, epochs=5, batch_size=64, validation_data=(x_test, y_test))"
      ],
      "metadata": {
        "id": "4fH_gbz18n3d",
        "colab": {
          "base_uri": "https://localhost:8080/"
        },
        "outputId": "281d65ab-6418-4fdd-ffa7-4e42854f8932"
      },
      "execution_count": 13,
      "outputs": [
        {
          "output_type": "stream",
          "name": "stdout",
          "text": [
            "Epoch 1/5\n",
            "782/782 [==============================] - 47s 45ms/step - loss: 4.6084 - accuracy: 0.0090 - val_loss: 4.6055 - val_accuracy: 0.0100\n",
            "Epoch 2/5\n",
            "782/782 [==============================] - 34s 43ms/step - loss: 4.6062 - accuracy: 0.0089 - val_loss: 4.6052 - val_accuracy: 0.0100\n",
            "Epoch 3/5\n",
            "782/782 [==============================] - 35s 45ms/step - loss: 4.6058 - accuracy: 0.0086 - val_loss: 4.6052 - val_accuracy: 0.0100\n",
            "Epoch 4/5\n",
            "782/782 [==============================] - 35s 44ms/step - loss: 4.6058 - accuracy: 0.0093 - val_loss: 4.6052 - val_accuracy: 0.0100\n",
            "Epoch 5/5\n",
            "782/782 [==============================] - 34s 43ms/step - loss: 4.6058 - accuracy: 0.0091 - val_loss: 4.6052 - val_accuracy: 0.0100\n"
          ]
        },
        {
          "output_type": "execute_result",
          "data": {
            "text/plain": [
              "<keras.src.callbacks.History at 0x7b288cd9a080>"
            ]
          },
          "metadata": {},
          "execution_count": 13
        }
      ]
    },
    {
      "cell_type": "markdown",
      "source": [
        "Accuracy of VGG16 after 5 epochs is 0.9%"
      ],
      "metadata": {
        "id": "XVMbs9ZtBq7X"
      }
    },
    {
      "cell_type": "markdown",
      "source": [
        "\n",
        "\n",
        "> **Making Changes to VGG16 Model**\n",
        "\n",
        "\n",
        "\n",
        "This would help us to make results more accurate as the dataset is very large.\n",
        "\n",
        "\n"
      ],
      "metadata": {
        "id": "3b-3xAanJIpx"
      }
    },
    {
      "cell_type": "code",
      "source": [
        "\n",
        "\n",
        "model = Sequential()\n",
        "model.add(Conv2D(32, (3,3), padding='same', input_shape=(32,32,3),activation = 'relu'))\n",
        "model.add(BatchNormalization())\n",
        "model.add(Conv2D(32, (3,3), padding='same',activation = 'relu'))\n",
        "model.add(BatchNormalization())\n",
        "model.add(AveragePooling2D(2,2))\n",
        "model.add(Dropout(0.2))\n",
        "\n",
        "model.add(Conv2D(64, (3,3), padding='same',activation = 'relu'))\n",
        "model.add(BatchNormalization())\n",
        "model.add(Conv2D(64, (3,3), padding='same',activation = 'relu'))\n",
        "model.add(BatchNormalization())\n",
        "model.add(AveragePooling2D(2,2))\n",
        "model.add(Dropout(0.3))\n",
        "\n",
        "model.add(Conv2D(128, (3,3), padding='same',activation = 'relu'))\n",
        "model.add(BatchNormalization())\n",
        "model.add(Conv2D(128, (3,3), padding='same',activation = 'relu'))\n",
        "model.add(BatchNormalization())\n",
        "model.add(AveragePooling2D(2,2))\n",
        "model.add(Dropout(0.4))\n",
        "\n",
        "model.add(Flatten())\n",
        "model.add(Dense(100, activation='softmax'))\n",
        "model.summary()"
      ],
      "metadata": {
        "id": "0RwJX8ti-pln",
        "colab": {
          "base_uri": "https://localhost:8080/"
        },
        "outputId": "f5b4d545-e04b-4912-e6c2-23c2fae93cd5"
      },
      "execution_count": 14,
      "outputs": [
        {
          "output_type": "stream",
          "name": "stdout",
          "text": [
            "Model: \"sequential_2\"\n",
            "_________________________________________________________________\n",
            " Layer (type)                Output Shape              Param #   \n",
            "=================================================================\n",
            " conv2d_107 (Conv2D)         (None, 32, 32, 32)        896       \n",
            "                                                                 \n",
            " batch_normalization_95 (Ba  (None, 32, 32, 32)        128       \n",
            " tchNormalization)                                               \n",
            "                                                                 \n",
            " conv2d_108 (Conv2D)         (None, 32, 32, 32)        9248      \n",
            "                                                                 \n",
            " batch_normalization_96 (Ba  (None, 32, 32, 32)        128       \n",
            " tchNormalization)                                               \n",
            "                                                                 \n",
            " average_pooling2d_9 (Avera  (None, 16, 16, 32)        0         \n",
            " gePooling2D)                                                    \n",
            "                                                                 \n",
            " dropout_4 (Dropout)         (None, 16, 16, 32)        0         \n",
            "                                                                 \n",
            " conv2d_109 (Conv2D)         (None, 16, 16, 64)        18496     \n",
            "                                                                 \n",
            " batch_normalization_97 (Ba  (None, 16, 16, 64)        256       \n",
            " tchNormalization)                                               \n",
            "                                                                 \n",
            " conv2d_110 (Conv2D)         (None, 16, 16, 64)        36928     \n",
            "                                                                 \n",
            " batch_normalization_98 (Ba  (None, 16, 16, 64)        256       \n",
            " tchNormalization)                                               \n",
            "                                                                 \n",
            " average_pooling2d_10 (Aver  (None, 8, 8, 64)          0         \n",
            " agePooling2D)                                                   \n",
            "                                                                 \n",
            " dropout_5 (Dropout)         (None, 8, 8, 64)          0         \n",
            "                                                                 \n",
            " conv2d_111 (Conv2D)         (None, 8, 8, 128)         73856     \n",
            "                                                                 \n",
            " batch_normalization_99 (Ba  (None, 8, 8, 128)         512       \n",
            " tchNormalization)                                               \n",
            "                                                                 \n",
            " conv2d_112 (Conv2D)         (None, 8, 8, 128)         147584    \n",
            "                                                                 \n",
            " batch_normalization_100 (B  (None, 8, 8, 128)         512       \n",
            " atchNormalization)                                              \n",
            "                                                                 \n",
            " average_pooling2d_11 (Aver  (None, 4, 4, 128)         0         \n",
            " agePooling2D)                                                   \n",
            "                                                                 \n",
            " dropout_6 (Dropout)         (None, 4, 4, 128)         0         \n",
            "                                                                 \n",
            " flatten_3 (Flatten)         (None, 2048)              0         \n",
            "                                                                 \n",
            " dense_7 (Dense)             (None, 100)               204900    \n",
            "                                                                 \n",
            "=================================================================\n",
            "Total params: 493700 (1.88 MB)\n",
            "Trainable params: 492804 (1.88 MB)\n",
            "Non-trainable params: 896 (3.50 KB)\n",
            "_________________________________________________________________\n"
          ]
        }
      ]
    },
    {
      "cell_type": "code",
      "source": [
        "model.compile(optimizer='adam', loss='categorical_crossentropy', metrics=['accuracy'])\n"
      ],
      "metadata": {
        "id": "UVrHs15L-n2G"
      },
      "execution_count": 15,
      "outputs": []
    },
    {
      "cell_type": "code",
      "source": [
        "model.fit(x_train, y_train, epochs=5, validation_data=(x_test, y_test))\n"
      ],
      "metadata": {
        "id": "GR7ILdma-0xs",
        "colab": {
          "base_uri": "https://localhost:8080/"
        },
        "outputId": "f0a7189f-d5d7-41b0-dc3c-cfe155e5b8ee"
      },
      "execution_count": 16,
      "outputs": [
        {
          "output_type": "stream",
          "name": "stdout",
          "text": [
            "Epoch 1/5\n",
            "1563/1563 [==============================] - 19s 9ms/step - loss: 4.0654 - accuracy: 0.0969 - val_loss: 69.9640 - val_accuracy: 0.0101\n",
            "Epoch 2/5\n",
            "1563/1563 [==============================] - 14s 9ms/step - loss: 3.3479 - accuracy: 0.2034 - val_loss: 20.0198 - val_accuracy: 0.0114\n",
            "Epoch 3/5\n",
            "1563/1563 [==============================] - 14s 9ms/step - loss: 2.9722 - accuracy: 0.2781 - val_loss: 46.8270 - val_accuracy: 0.0100\n",
            "Epoch 4/5\n",
            "1563/1563 [==============================] - 14s 9ms/step - loss: 2.6608 - accuracy: 0.3358 - val_loss: 42.3737 - val_accuracy: 0.0100\n",
            "Epoch 5/5\n",
            "1563/1563 [==============================] - 13s 9ms/step - loss: 2.4358 - accuracy: 0.3808 - val_loss: 9.0040 - val_accuracy: 0.0161\n"
          ]
        },
        {
          "output_type": "execute_result",
          "data": {
            "text/plain": [
              "<keras.src.callbacks.History at 0x7b2854542800>"
            ]
          },
          "metadata": {},
          "execution_count": 16
        }
      ]
    },
    {
      "cell_type": "markdown",
      "source": [
        "Accuracy of Modified VGG16 after 5 epochs is 38%"
      ],
      "metadata": {
        "id": "xSfe1zzKqHDh"
      }
    },
    {
      "cell_type": "code",
      "source": [
        "indices = np.random.choice(x_test.shape[0], 10)\n",
        "x_pred = x_test[indices]\n",
        "y_true = y_test[indices]"
      ],
      "metadata": {
        "id": "tjF7qydj-5xy"
      },
      "execution_count": 19,
      "outputs": []
    },
    {
      "cell_type": "code",
      "source": [
        "y_pred_prob = model.predict(x_pred)\n",
        "y_pred_class = np.argmax(y_pred_prob, axis=-1)"
      ],
      "metadata": {
        "id": "IxGPP5iD-8OC",
        "colab": {
          "base_uri": "https://localhost:8080/"
        },
        "outputId": "4dc74a04-723d-482b-a9f5-f3d293df25e2"
      },
      "execution_count": 20,
      "outputs": [
        {
          "output_type": "stream",
          "name": "stdout",
          "text": [
            "1/1 [==============================] - 1s 570ms/step\n"
          ]
        }
      ]
    },
    {
      "cell_type": "code",
      "source": [
        "for i in range(10):\n",
        "    plt.subplot(2, 5, i+1)\n",
        "    plt.imshow(x_pred[i], cmap='gray')\n",
        "    plt.axis('off')\n",
        "    plt.title('True: %d\\nPred: %d' % (np.argmax(y_true[i]), y_pred_class[i]))\n",
        "plt.show()"
      ],
      "metadata": {
        "id": "S6mlM8KI--wn",
        "colab": {
          "base_uri": "https://localhost:8080/",
          "height": 541
        },
        "outputId": "0cbd0e03-0113-4009-a50f-d8486b1ac15a"
      },
      "execution_count": 21,
      "outputs": [
        {
          "output_type": "stream",
          "name": "stderr",
          "text": [
            "WARNING:matplotlib.image:Clipping input data to the valid range for imshow with RGB data ([0..1] for floats or [0..255] for integers).\n",
            "WARNING:matplotlib.image:Clipping input data to the valid range for imshow with RGB data ([0..1] for floats or [0..255] for integers).\n",
            "WARNING:matplotlib.image:Clipping input data to the valid range for imshow with RGB data ([0..1] for floats or [0..255] for integers).\n",
            "WARNING:matplotlib.image:Clipping input data to the valid range for imshow with RGB data ([0..1] for floats or [0..255] for integers).\n",
            "WARNING:matplotlib.image:Clipping input data to the valid range for imshow with RGB data ([0..1] for floats or [0..255] for integers).\n",
            "WARNING:matplotlib.image:Clipping input data to the valid range for imshow with RGB data ([0..1] for floats or [0..255] for integers).\n",
            "WARNING:matplotlib.image:Clipping input data to the valid range for imshow with RGB data ([0..1] for floats or [0..255] for integers).\n",
            "WARNING:matplotlib.image:Clipping input data to the valid range for imshow with RGB data ([0..1] for floats or [0..255] for integers).\n",
            "WARNING:matplotlib.image:Clipping input data to the valid range for imshow with RGB data ([0..1] for floats or [0..255] for integers).\n",
            "WARNING:matplotlib.image:Clipping input data to the valid range for imshow with RGB data ([0..1] for floats or [0..255] for integers).\n"
          ]
        },
        {
          "output_type": "display_data",
          "data": {
            "text/plain": [
              "<Figure size 640x480 with 10 Axes>"
            ],
            "image/png": "[encoded data removed]"
          },
          "metadata": {}
        }
      ]
    },
    {
      "cell_type": "markdown",
      "source": [
        "# **Insights**"
      ],
      "metadata": {
        "id": "xawy637NCIh0"
      }
    },
    {
      "cell_type": "markdown",
      "source": [
        "Using Complex Models such as VGG16, InceptionV3, RESNET50 lead to less accurate predictions. Model could be simpler to be better."
      ],
      "metadata": {
        "id": "JFAAcZZ28hSc"
      }
    }
  ]
}